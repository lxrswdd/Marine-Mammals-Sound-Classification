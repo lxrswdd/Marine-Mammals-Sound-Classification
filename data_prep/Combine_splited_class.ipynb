{
 "cells": [
  {
   "cell_type": "code",
   "execution_count": 1,
   "metadata": {},
   "outputs": [],
   "source": [
    "import os \n",
    "import numpy as np"
   ]
  },
  {
   "cell_type": "code",
   "execution_count": 2,
   "metadata": {},
   "outputs": [],
   "source": [
    "def combine_npz(root_dir):\n",
    "    \"\"\" Combine all the npz files in the root_dir into one npz file\n",
    "\n",
    "    Args:\n",
    "        root_dir (_type_): _description_\n",
    "    \"\"\"\n",
    "\n",
    "    combined_X = np.zeros((1,256,256))\n",
    "    combined_y = np.zeros((1,1))\n",
    "    npz_list = os.listdir(root_dir)\n",
    "    for npz in npz_list:\n",
    "        curr_data = np.load(os.path.join(root_dir,npz))\n",
    "        curr_X = curr_data['arr_0']\n",
    "        curr_y = curr_data['arr_1']\n",
    "        combined_X = np.vstack((combined_X,curr_X))\n",
    "        combined_y = np.vstack((combined_y,curr_y))\n",
    "    combined_X = np.delete(combined_X,0,0)\n",
    "    combined_y = np.delete(combined_y,0,0)\n",
    "    print(combined_X.shape)\n",
    "    print(combined_y.shape)\n",
    "    np.savez(os.path.join(root_dir,'combined_data.npz'),combined_X,combined_y)"
   ]
  },
  {
   "cell_type": "code",
   "execution_count": 8,
   "metadata": {},
   "outputs": [
    {
     "name": "stdout",
     "output_type": "stream",
     "text": [
      "(7155, 256, 256)\n",
      "(7155, 1)\n"
     ]
    }
   ],
   "source": [
    "root_dir = \"/data2/xiangrui_d2/MMC/Dataset/Combine/features/combined/8khz/train\"\n",
    "combine_npz(root_dir)\n"
   ]
  },
  {
   "cell_type": "code",
   "execution_count": null,
   "metadata": {},
   "outputs": [],
   "source": []
  }
 ],
 "metadata": {
  "kernelspec": {
   "display_name": "base",
   "language": "python",
   "name": "python3"
  },
  "language_info": {
   "codemirror_mode": {
    "name": "ipython",
    "version": 3
   },
   "file_extension": ".py",
   "mimetype": "text/x-python",
   "name": "python",
   "nbconvert_exporter": "python",
   "pygments_lexer": "ipython3",
   "version": "3.10.12"
  },
  "orig_nbformat": 4,
  "vscode": {
   "interpreter": {
    "hash": "40d3a090f54c6569ab1632332b64b2c03c39dcf918b08424e98f38b5ae0af88f"
   }
  }
 },
 "nbformat": 4,
 "nbformat_minor": 2
}
