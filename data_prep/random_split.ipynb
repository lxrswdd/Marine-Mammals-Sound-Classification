{
 "cells": [
  {
   "cell_type": "code",
   "execution_count": 3,
   "metadata": {},
   "outputs": [],
   "source": [
    "import os\n",
    "import random,shutil\n"
   ]
  },
  {
   "cell_type": "code",
   "execution_count": 7,
   "metadata": {},
   "outputs": [],
   "source": [
    "root_dir = '/data2/xiangrui_d2/MMC/Dataset/Waktins12/wav/original'\n",
    "folder_list = os.listdir(root_dir)\n",
    "for folder in  folder_list:\n",
    "    os.makedirs(os.path.join('/data2/xiangrui_d2/MMC/Dataset/Waktins12/wav','train',folder), exist_ok=True)\n",
    "    os.makedirs(os.path.join('/data2/xiangrui_d2/MMC/Dataset/Waktins12/wav','test',folder), exist_ok=True)\n",
    "\n",
    "    file_list = os.listdir(os.path.join(root_dir, folder))\n",
    "    file_list_length = len(file_list)\n",
    "    train_size = int(0.7*file_list_length)\n",
    "    counter = 0\n",
    "    while counter <= train_size: # move the 0.7 portion to train folder\n",
    "        random_file = random.choice(file_list)\n",
    "        if random_file.endswith('.wav'):\n",
    "            shutil.move(os.path.join(root_dir, folder, random_file), os.path.join('/data2/xiangrui_d2/MMC/Dataset/Waktins12/wav','train',folder))\n",
    "            file_list.remove(random_file)\n",
    "            counter += 1\n",
    "    # move the rest to test folder\n",
    "    for file in os.listdir(os.path.join(root_dir, folder)):\n",
    "        if file.endswith('.wav'):\n",
    "            shutil.move(os.path.join(root_dir, folder, file), os.path.join('/data2/xiangrui_d2/MMC/Dataset/Waktins12/wav','test',folder))\n",
    "\n",
    "    \n",
    "\n"
   ]
  },
  {
   "cell_type": "code",
   "execution_count": null,
   "metadata": {},
   "outputs": [],
   "source": []
  }
 ],
 "metadata": {
  "kernelspec": {
   "display_name": "mmc",
   "language": "python",
   "name": "python3"
  },
  "language_info": {
   "codemirror_mode": {
    "name": "ipython",
    "version": 3
   },
   "file_extension": ".py",
   "mimetype": "text/x-python",
   "name": "python",
   "nbconvert_exporter": "python",
   "pygments_lexer": "ipython3",
   "version": "3.10.12"
  },
  "orig_nbformat": 4
 },
 "nbformat": 4,
 "nbformat_minor": 2
}
