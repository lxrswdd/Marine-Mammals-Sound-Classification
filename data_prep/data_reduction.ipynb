{
 "cells": [
  {
   "cell_type": "code",
   "execution_count": 85,
   "metadata": {},
   "outputs": [],
   "source": [
    "import os\n",
    "import numpy as np\n",
    "import random\n",
    "from sklearn.model_selection import train_test_split"
   ]
  },
  {
   "cell_type": "code",
   "execution_count": 88,
   "metadata": {},
   "outputs": [
    {
     "name": "stdout",
     "output_type": "stream",
     "text": [
      "(10000, 60, 240)\n",
      "(10000,)\n"
     ]
    }
   ],
   "source": [
    "data2 = np.load(r'/home/assa8945/MMC/Dataset/features/class_reduction/class_0_sperm_whale.npz')\n",
    "X_0 = data2['arr_0']\n",
    "y_0 = data2['arr_1']\n",
    "print(X_0.shape)\n",
    "print(y_0.shape)"
   ]
  },
  {
   "cell_type": "code",
   "execution_count": 94,
   "metadata": {},
   "outputs": [
    {
     "name": "stdout",
     "output_type": "stream",
     "text": [
      "(104336, 60, 240)\n",
      "(104336,)\n"
     ]
    }
   ],
   "source": [
    "data = np.load(r'/home/assa8945/MMC/Dataset/features/class_reduction/13class_c1to8.npz')\n",
    "X = data['arr_0']\n",
    "y = data['arr_1']\n",
    "print(X.shape)\n",
    "print(y.shape)"
   ]
  },
  {
   "cell_type": "code",
   "execution_count": 90,
   "metadata": {},
   "outputs": [],
   "source": [
    "y_0 = y_0.reshape((-1,1))\n",
    "y = y.reshape((-1,1))"
   ]
  },
  {
   "cell_type": "code",
   "execution_count": 93,
   "metadata": {},
   "outputs": [],
   "source": [
    "new_X = np.vstack((X_0,X))\n",
    "new_y = np.vstack((y_0,y))\n",
    "np.savez(os.path.join(\"/home/assa8945/MMC/Dataset/features/class_reduction\",'finalized_specs_13classes'),new_X,new_y)"
   ]
  },
  {
   "cell_type": "code",
   "execution_count": 105,
   "metadata": {},
   "outputs": [
    {
     "data": {
      "text/plain": [
       "Counter({1.0: 10000,\n",
       "         2.0: 10000,\n",
       "         3.0: 10000,\n",
       "         4.0: 7556,\n",
       "         5.0: 10000,\n",
       "         6.0: 4912,\n",
       "         7.0: 5897,\n",
       "         8.0: 10000,\n",
       "         9.0: 7736,\n",
       "         10.0: 4250,\n",
       "         11.0: 10000,\n",
       "         12.0: 4556})"
      ]
     },
     "execution_count": 105,
     "metadata": {},
     "output_type": "execute_result"
    }
   ],
   "source": [
    "from collections import Counter\n",
    "counter4 = Counter(new_y)\n",
    "counter4"
   ]
  },
  {
   "cell_type": "code",
   "execution_count": 96,
   "metadata": {},
   "outputs": [
    {
     "data": {
      "text/plain": [
       "Counter({1.0: 10000,\n",
       "         2.0: 10000,\n",
       "         3.0: 10000,\n",
       "         4.0: 7556,\n",
       "         5.0: 10000,\n",
       "         6.0: 4912,\n",
       "         7.0: 5897,\n",
       "         8.0: 10000,\n",
       "         9.0: 7736,\n",
       "         10.0: 4250,\n",
       "         11.0: 19429,\n",
       "         12.0: 4556})"
      ]
     },
     "execution_count": 96,
     "metadata": {},
     "output_type": "execute_result"
    }
   ],
   "source": [
    "from collections import Counter\n",
    "counter3 = Counter(y)\n",
    "counter3"
   ]
  },
  {
   "cell_type": "code",
   "execution_count": 97,
   "metadata": {},
   "outputs": [],
   "source": [
    "start = 5*10000+7556+4912+5897+7736+4250\n",
    "end = start+19429"
   ]
  },
  {
   "cell_type": "code",
   "execution_count": 98,
   "metadata": {},
   "outputs": [],
   "source": [
    "X_temp = X[start:end]\n",
    "y_temp =y[start:end]"
   ]
  },
  {
   "cell_type": "code",
   "execution_count": 99,
   "metadata": {},
   "outputs": [],
   "source": [
    "np.random.shuffle(X_temp)"
   ]
  },
  {
   "cell_type": "code",
   "execution_count": 100,
   "metadata": {},
   "outputs": [],
   "source": [
    "new_X = np.concatenate((X[:start],X_temp[:10000],X[end:]),axis=0)\n"
   ]
  },
  {
   "cell_type": "code",
   "execution_count": 101,
   "metadata": {},
   "outputs": [
    {
     "data": {
      "text/plain": [
       "(94907,)"
      ]
     },
     "execution_count": 101,
     "metadata": {},
     "output_type": "execute_result"
    }
   ],
   "source": [
    "new_y = np.concatenate((y[:start],y_temp[:10000],y[end:]),axis=0)\n",
    "new_y.shape"
   ]
  },
  {
   "cell_type": "code",
   "execution_count": 103,
   "metadata": {},
   "outputs": [
    {
     "data": {
      "text/plain": [
       "Counter({1.0: 10000,\n",
       "         2.0: 10000,\n",
       "         3.0: 10000,\n",
       "         4.0: 7556,\n",
       "         5.0: 10000,\n",
       "         6.0: 4912,\n",
       "         7.0: 5897,\n",
       "         8.0: 10000,\n",
       "         9.0: 7736,\n",
       "         10.0: 4250,\n",
       "         11.0: 10000,\n",
       "         12.0: 4556})"
      ]
     },
     "execution_count": 103,
     "metadata": {},
     "output_type": "execute_result"
    }
   ],
   "source": [
    "counter = Counter(new_y)\n",
    "counter"
   ]
  },
  {
   "cell_type": "code",
   "execution_count": 104,
   "metadata": {},
   "outputs": [],
   "source": [
    "np.savez(os.path.join(\"/home/assa8945/MMC/Dataset/features/class_reduction\",'finalized_specs_13classes'),new_X,new_y)"
   ]
  },
  {
   "cell_type": "code",
   "execution_count": 38,
   "metadata": {},
   "outputs": [
    {
     "data": {
      "text/plain": [
       "Counter({1.0: 10000,\n",
       "         2.0: 10000,\n",
       "         3.0: 10000,\n",
       "         4.0: 7556,\n",
       "         5.0: 10907,\n",
       "         6.0: 4912,\n",
       "         7.0: 5897,\n",
       "         8.0: 11033,\n",
       "         9.0: 7736,\n",
       "         10.0: 4250,\n",
       "         11.0: 19429,\n",
       "         12.0: 4556})"
      ]
     },
     "execution_count": 38,
     "metadata": {},
     "output_type": "execute_result"
    }
   ],
   "source": []
  },
  {
   "cell_type": "code",
   "execution_count": 2,
   "metadata": {},
   "outputs": [
    {
     "name": "stdout",
     "output_type": "stream",
     "text": [
      "(292553, 60, 240)\n",
      "(292553,)\n"
     ]
    }
   ],
   "source": [
    "\n",
    "root_dir = '/home/assa8945/MMC/Dataset/features/watkins_full/13_classes(greater4000)'\n",
    "# root_dir=\"D:\\A\\Marine Mammal Detection\\datasets\\\\noise_full\\\\10classes\"\n",
    "\n",
    "curr_dir = os.getcwd()\n",
    "curr_dir\n",
    "\n",
    "X_mfcc = np.load(os.path.join(root_dir,'specs.npy.npz'))\n",
    "# X_mfcc = np.load(os.path.join(root_dir,'mfccs_11stacked.npy.npz'))\n",
    "\n",
    "X_mfcc = np.array([X_mfcc[k] for k in X_mfcc])\n",
    "y_original = np.loadtxt(os.path.join(root_dir,'labels.csv'), delimiter=\",\")\n",
    "# y_original = np.load(os.path.join(root_dir,'label.npy.npz'))\n",
    "# y_original = np.array([y_original[k] for k in y_origin        al])\n",
    "print(X_mfcc.shape)\n",
    "print(y_original.shape) "
   ]
  },
  {
   "cell_type": "code",
   "execution_count": 16,
   "metadata": {},
   "outputs": [],
   "source": [
    "y_class_0 = y_original[137179:]\n",
    "x_class_0 = X_mfcc[137179:]"
   ]
  },
  {
   "cell_type": "code",
   "execution_count": 17,
   "metadata": {},
   "outputs": [
    {
     "data": {
      "text/plain": [
       "(155374, 60, 240)"
      ]
     },
     "execution_count": 17,
     "metadata": {},
     "output_type": "execute_result"
    }
   ],
   "source": [
    "x_class_0.shape"
   ]
  },
  {
   "cell_type": "code",
   "execution_count": 19,
   "metadata": {},
   "outputs": [],
   "source": [
    "np.savez(os.path.join(\"/home/assa8945/MMC/Dataset/features/class_reduction\",'13class_without_spermwhale'),x_class_0,y_class_0)"
   ]
  },
  {
   "cell_type": "code",
   "execution_count": 3,
   "metadata": {},
   "outputs": [],
   "source": [
    "from collections import Counter\n",
    "counter = Counter(y_original)"
   ]
  },
  {
   "cell_type": "code",
   "execution_count": 4,
   "metadata": {},
   "outputs": [
    {
     "data": {
      "text/plain": [
       "Counter({0.0: 137179,\n",
       "         1.0: 10058,\n",
       "         2.0: 45757,\n",
       "         3.0: 23283,\n",
       "         4.0: 7556,\n",
       "         5.0: 10907,\n",
       "         6.0: 4912,\n",
       "         7.0: 5897,\n",
       "         8.0: 11033,\n",
       "         9.0: 7736,\n",
       "         10.0: 4250,\n",
       "         11.0: 19429,\n",
       "         12.0: 4556})"
      ]
     },
     "execution_count": 4,
     "metadata": {},
     "output_type": "execute_result"
    }
   ],
   "source": [
    "counter"
   ]
  },
  {
   "cell_type": "code",
   "execution_count": null,
   "metadata": {},
   "outputs": [],
   "source": [
    "y_original = y_original.tolist(  )"
   ]
  },
  {
   "cell_type": "code",
   "execution_count": null,
   "metadata": {},
   "outputs": [
    {
     "data": {
      "text/plain": [
       "137179"
      ]
     },
     "execution_count": 9,
     "metadata": {},
     "output_type": "execute_result"
    }
   ],
   "source": [
    "len(X_mfcc)"
   ]
  },
  {
   "cell_type": "code",
   "execution_count": 7,
   "metadata": {},
   "outputs": [],
   "source": [
    "def truncate_randomly(X,y,left,right):\n",
    "\n",
    "    # method 2 \n",
    "    i = 0\n",
    "    \n",
    "    while i <10000:\n",
    "        j = random.randint(left,right)\n",
    "        \n",
    "        if X[j]:\n",
    "            \n",
    "            X[j]=None\n",
    "            i+=1 \n",
    "    X = [item for item in X if item]\n",
    "    y = [item for item in y if item]\n",
    "    X = np.array(X)\n",
    "    y = np.array(y)\n",
    "    print(X.shape)\n",
    "    print(y.shape)\n",
    "    assert X.shape[0] == y.shape[0]\n",
    "    return X,y"
   ]
  },
  {
   "cell_type": "code",
   "execution_count": 8,
   "metadata": {},
   "outputs": [
    {
     "ename": "NameError",
     "evalue": "name 'X' is not defined",
     "output_type": "error",
     "traceback": [
      "\u001b[0;31m---------------------------------------------------------------------------\u001b[0m",
      "\u001b[0;31mNameError\u001b[0m                                 Traceback (most recent call last)",
      "Cell \u001b[0;32mIn [8], line 1\u001b[0m\n\u001b[0;32m----> 1\u001b[0m new_X,new_y \u001b[39m=\u001b[39m truncate_randomly(X,y,\u001b[39m0\u001b[39m,\u001b[39m137178\u001b[39m)\n",
      "\u001b[0;31mNameError\u001b[0m: name 'X' is not defined"
     ]
    }
   ],
   "source": [
    "new_X,new_y = truncate_randomly(X,y,0,137178)"
   ]
  },
  {
   "cell_type": "code",
   "execution_count": null,
   "metadata": {},
   "outputs": [],
   "source": []
  },
  {
   "cell_type": "code",
   "execution_count": null,
   "metadata": {},
   "outputs": [],
   "source": [
    "# summary = {1.0: 137179, 3.0: 45757, 4.0: 23283, 40.0: 19429, 21.0: 11033, 6.0: 10907, 2.0: 10058, 24.0: 7736, 5.0: 7556, 16.0: 5897, 7.0: 4912, 47.0: 4556, 33.0: 4250, 44.0: 3567, 39.0: 3412, 27.0: 3209, 32.0: 3169, 34.0: 2708, 53.0: 2558, 28.0: 2345, 8.0: 1712, 51.0: 1691, 29.0: 1596, 30.0: 1407, 14.0: 1355, 37.0: 1220, 50.0: 1001, 13.0: 769, 49.0: 758, 25.0: 746, 52.0: 689, 18.0: 642, 41.0: 640, 43.0: 525, 36.0: 470, 19.0: 445, 15.0: 444, 11.0: 435, 20.0: 359, 46.0: 313, 48.0: 173, 38.0: 159, 45.0: 146, 22.0: 124, 35.0: 75, 23.0: 72, 0.0: 48, 10.0: 40, 26.0: 32, 31.0: 24, 12.0: 21, 17.0: 18, 9.0: 12, 42.0: 4}"
   ]
  },
  {
   "cell_type": "code",
   "execution_count": 10,
   "metadata": {},
   "outputs": [
    {
     "name": "stdout",
     "output_type": "stream",
     "text": [
      "13\n"
     ]
    }
   ],
   "source": [
    "from collections import Counter\n",
    "import matplotlib.pyplot as plt\n",
    "import csv\n",
    "# counter = Counter(y_original.tolist())\n",
    "c = 0\n",
    "ll = []\n",
    "with open('class_less_than_300.csv','w')as file:\n",
    "    writer = csv.writer(file)\n",
    "    for key,values in summary.items():\n",
    "        if values>=4000:\n",
    "            ll.append(key)\n",
    "            # print(str(int(key)))\n",
    "            writer.writerow([int(key)])\n",
    "            c+=1\n",
    "            \n",
    "        \n",
    "print(len(ll))"
   ]
  },
  {
   "cell_type": "code",
   "execution_count": 11,
   "metadata": {},
   "outputs": [
    {
     "data": {
      "text/plain": [
       "[1.0, 3.0, 4.0, 40.0, 21.0, 6.0, 2.0, 24.0, 5.0, 16.0, 7.0, 47.0, 33.0]"
      ]
     },
     "execution_count": 11,
     "metadata": {},
     "output_type": "execute_result"
    }
   ],
   "source": [
    "ll"
   ]
  },
  {
   "cell_type": "code",
   "execution_count": 30,
   "metadata": {},
   "outputs": [
    {
     "data": {
      "text/plain": [
       "[(1.0, 137179),\n",
       " (2.0, 10058),\n",
       " (3.0, 45757),\n",
       " (4.0, 23283),\n",
       " (5.0, 7556),\n",
       " (6.0, 10907),\n",
       " (7.0, 4912),\n",
       " (16.0, 5897),\n",
       " (21.0, 11033),\n",
       " (24.0, 7736),\n",
       " (33.0, 4250),\n",
       " (40.0, 19429),\n",
       " (47.0, 4556)]"
      ]
     },
     "execution_count": 30,
     "metadata": {},
     "output_type": "execute_result"
    }
   ],
   "source": [
    "ll"
   ]
  },
  {
   "cell_type": "code",
   "execution_count": 27,
   "metadata": {},
   "outputs": [
    {
     "data": {
      "text/plain": [
       "23776"
      ]
     },
     "execution_count": 27,
     "metadata": {},
     "output_type": "execute_result"
    }
   ],
   "source": [
    "current_index = 2\n",
    "ll\n",
    "cc = 0\n",
    "ending_index = 0\n",
    "while cc <=current_index:\n",
    "    ending_index += ll[cc][-1]\n",
    "    cc+=1\n",
    "ending_index\n",
    "starting_index = ending_index -  ll[current_index][-1]\n",
    "starting_index\n",
    "shuffing_subset = X_mfcc[starting_index:ending_index]\n",
    "random.shuffle(shuffing_subset)\n",
    "print('done shuffling')\n",
    "pre_10000_of_shuffled = shuffing_subset[:10000]"
   ]
  },
  {
   "cell_type": "code",
   "execution_count": null,
   "metadata": {},
   "outputs": [],
   "source": [
    "new_x = np.vstack(( ))"
   ]
  },
  {
   "cell_type": "code",
   "execution_count": null,
   "metadata": {},
   "outputs": [],
   "source": [
    "new_y = np.vstack((y_original[starting_index],np.full((10000,1),current_index)))\n",
    "new_y = np.vstack((new_y,y_original[ending_index:]))\n",
    "print('new y has shape',new_y.shape)"
   ]
  },
  {
   "cell_type": "code",
   "execution_count": 7,
   "metadata": {},
   "outputs": [
    {
     "data": {
      "text/plain": [
       "(13718, 1)"
      ]
     },
     "execution_count": 7,
     "metadata": {},
     "output_type": "execute_result"
    }
   ],
   "source": [
    "keepX.shape\n",
    "keepy = keepy.reshape((-1,1))\n",
    "keepy.shape"
   ]
  },
  {
   "cell_type": "code",
   "execution_count": 8,
   "metadata": {},
   "outputs": [],
   "source": [
    "X_mfcc = X_mfcc[137179:][:]\n",
    "y_original = y_original[137179:]\n",
    "y_original = y_original.reshape((-1,1))"
   ]
  },
  {
   "cell_type": "code",
   "execution_count": 9,
   "metadata": {},
   "outputs": [
    {
     "data": {
      "text/plain": [
       "(193559, 1)"
      ]
     },
     "execution_count": 9,
     "metadata": {},
     "output_type": "execute_result"
    }
   ],
   "source": [
    "y_original.shape"
   ]
  },
  {
   "cell_type": "code",
   "execution_count": 10,
   "metadata": {},
   "outputs": [],
   "source": [
    "X_mfcc = np.vstack((keepX,X_mfcc))\n",
    "y = np.vstack((keepy,y_original))"
   ]
  },
  {
   "cell_type": "code",
   "execution_count": 11,
   "metadata": {},
   "outputs": [
    {
     "name": "stdout",
     "output_type": "stream",
     "text": [
      "(207277, 60, 240)\n",
      "(207277, 1)\n"
     ]
    }
   ],
   "source": [
    "print(X_mfcc.shape)\n",
    "print(y.shape)"
   ]
  },
  {
   "cell_type": "code",
   "execution_count": 12,
   "metadata": {},
   "outputs": [],
   "source": [
    "np.savez(os.path.join('/home/assa8945/MMC/Dataset/features/class_reduction','specs_200k.npy.npz'),*X_mfcc)\n"
   ]
  },
  {
   "cell_type": "code",
   "execution_count": 13,
   "metadata": {},
   "outputs": [],
   "source": [
    "np.savez(os.path.join('/home/assa8945/MMC/Dataset/features/class_reduction','label_200k.npy.npz'),*y)\n"
   ]
  },
  {
   "cell_type": "code",
   "execution_count": null,
   "metadata": {},
   "outputs": [],
   "source": []
  }
 ],
 "metadata": {
  "kernelspec": {
   "display_name": "Python 3.9.13 ('py39': conda)",
   "language": "python",
   "name": "python3"
  },
  "language_info": {
   "codemirror_mode": {
    "name": "ipython",
    "version": 3
   },
   "file_extension": ".py",
   "mimetype": "text/x-python",
   "name": "python",
   "nbconvert_exporter": "python",
   "pygments_lexer": "ipython3",
   "version": "3.9.13"
  },
  "orig_nbformat": 4,
  "vscode": {
   "interpreter": {
    "hash": "ecabaab5aa15e3c70ccdd8c9af1b27eebe11a07043e5733675f5e7e2ee8b9fc1"
   }
  }
 },
 "nbformat": 4,
 "nbformat_minor": 2
}
