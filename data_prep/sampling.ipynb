{
 "cells": [
  {
   "cell_type": "code",
   "execution_count": 22,
   "metadata": {},
   "outputs": [],
   "source": [
    "import numpy as np\n",
    "import os\n",
    "import random\n",
    "\n",
    "import matplotlib.pyplot as plt"
   ]
  },
  {
   "cell_type": "code",
   "execution_count": 23,
   "metadata": {},
   "outputs": [
    {
     "name": "stdout",
     "output_type": "stream",
     "text": [
      "(2030, 60, 240) (2030, 1)\n",
      "(5666, 60, 240) (5666, 1)\n",
      "(8501, 60, 240) (8501, 1)\n",
      "(10861, 60, 240) (10861, 1)\n",
      "(14576, 60, 240) (14576, 1)\n",
      "(20576, 60, 240) (20576, 1)\n",
      "(25871, 60, 240) (25871, 1)\n",
      "(31098, 60, 240) (31098, 1)\n",
      "(37098, 60, 240) (37098, 1)\n",
      "(41889, 60, 240) (41889, 1)\n",
      "(47889, 60, 240) (47889, 1)\n",
      "(53889, 60, 240) (53889, 1)\n",
      "(56070, 60, 240) (56070, 1)\n",
      "(56069, 60, 240) (56069, 1)\n"
     ]
    }
   ],
   "source": [
    "root_dir = r'/home/assa8945/MMC/Dataset/features/watkins_full/V2'\n",
    "X= np.ones((1,60,240))\n",
    "y = np.ones((1,1))\n",
    "for i in os.listdir(root_dir):\n",
    "    file_dir = os.path.join(root_dir,i)\n",
    "    data = np.load(file_dir)\n",
    "    curr_X = data['arr_0']\n",
    "    curr_y = data['arr_1']\n",
    "\n",
    "    if curr_X.shape[0]>6000:\n",
    "        random.shuffle(curr_X)\n",
    "        curr_X = curr_X[:6000]\n",
    "        curr_y = curr_y[:6000]\n",
    "        pass\n",
    "\n",
    "    X = np.vstack((X,curr_X))\n",
    "    y = np.vstack((y,curr_y))\n",
    "    print(X.shape,y.shape)\n",
    "X = np.delete(X,0,0)\n",
    "y = np.delete(y,0,0)\n",
    "print(X.shape,y.shape)"
   ]
  },
  {
   "cell_type": "code",
   "execution_count": 24,
   "metadata": {},
   "outputs": [],
   "source": [
    "y2 = []\n",
    "for i in y:\n",
    "    y2.append(i[0])\n",
    "y2 = np.array(y2)"
   ]
  },
  {
   "cell_type": "code",
   "execution_count": 25,
   "metadata": {},
   "outputs": [
    {
     "data": {
      "text/plain": [
       "Counter({'Striped Dolphin': 2029,\n",
       "         'Common Dolphin': 3636,\n",
       "         'Bottlenose Dolphin': 2835,\n",
       "         'Weddell Seal': 2360,\n",
       "         'Spinner Dolphin': 3715,\n",
       "         'Finback Whale': 6000,\n",
       "         'Short-Finned (Pacific) Pilot Whale': 5295,\n",
       "         'Long-Finned Pilot Whale': 5227,\n",
       "         'Humpback Whale': 6000,\n",
       "         'Pantropical Spotted Dolphin': 4791,\n",
       "         'Killer Whale': 6000,\n",
       "         'sperm whale': 6000,\n",
       "         'Bowhead Whale': 2181})"
      ]
     },
     "execution_count": 25,
     "metadata": {},
     "output_type": "execute_result"
    }
   ],
   "source": [
    "from collections import Counter\n",
    "count  = Counter(y2)\n",
    "count"
   ]
  },
  {
   "cell_type": "code",
   "execution_count": 26,
   "metadata": {},
   "outputs": [],
   "source": [
    "np.savez(os.path.join(\"/home/assa8945/MMC/Dataset/features/watkins_full\",'v2_overall'),X,y2)"
   ]
  },
  {
   "cell_type": "code",
   "execution_count": null,
   "metadata": {},
   "outputs": [],
   "source": []
  }
 ],
 "metadata": {
  "kernelspec": {
   "display_name": "base",
   "language": "python",
   "name": "python3"
  },
  "language_info": {
   "codemirror_mode": {
    "name": "ipython",
    "version": 3
   },
   "file_extension": ".py",
   "mimetype": "text/x-python",
   "name": "python",
   "nbconvert_exporter": "python",
   "pygments_lexer": "ipython3",
   "version": "3.9.12 (main, Apr  5 2022, 06:56:58) \n[GCC 7.5.0]"
  },
  "orig_nbformat": 4,
  "vscode": {
   "interpreter": {
    "hash": "40d3a090f54c6569ab1632332b64b2c03c39dcf918b08424e98f38b5ae0af88f"
   }
  }
 },
 "nbformat": 4,
 "nbformat_minor": 2
}
